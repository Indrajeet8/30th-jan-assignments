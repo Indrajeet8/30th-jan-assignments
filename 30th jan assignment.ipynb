{
 "cells": [
  {
   "cell_type": "markdown",
   "id": "03adfb5f-086a-43ee-b23d-ca94fa2355cc",
   "metadata": {},
   "source": [
    "Assignment -- 30 jan "
   ]
  },
  {
   "cell_type": "code",
   "execution_count": 1,
   "id": "22ae1c56-558c-47fc-8dd1-b888dca13f34",
   "metadata": {},
   "outputs": [],
   "source": [
    "#ques 1 "
   ]
  },
  {
   "cell_type": "code",
   "execution_count": 2,
   "id": "b16613c5-8b2e-4c13-ad4a-73d3c2523bab",
   "metadata": {},
   "outputs": [
    {
     "name": "stdin",
     "output_type": "stream",
     "text": [
      "enter marks  55\n"
     ]
    },
    {
     "name": "stdout",
     "output_type": "stream",
     "text": [
      "D\n"
     ]
    }
   ],
   "source": [
    "marks = int(input ( \"enter marks \" ) )\n",
    "if marks> 90:\n",
    "    print(\"A\") \n",
    "elif marks > 80 and marks >=90 :\n",
    "    print (\"B\")\n",
    "elif marks > 60 and marks >=80 :\n",
    "    print(\"C\")\n",
    "else :\n",
    "    print (\"D\")\n",
    "    \n",
    "\n",
    "    "
   ]
  },
  {
   "cell_type": "code",
   "execution_count": 3,
   "id": "931a7e5f-c3db-44e9-9843-8a40b0cd4c0c",
   "metadata": {},
   "outputs": [],
   "source": [
    "#Ques - 2"
   ]
  },
  {
   "cell_type": "code",
   "execution_count": 6,
   "id": "9ba3e6c0-ef87-4e46-8d30-862ae80dc7e0",
   "metadata": {},
   "outputs": [
    {
     "name": "stdin",
     "output_type": "stream",
     "text": [
      "enter the bike price 90000\n"
     ]
    },
    {
     "name": "stdout",
     "output_type": "stream",
     "text": [
      "Tax = 4500.0\n"
     ]
    }
   ],
   "source": [
    "cost_price = int(input(\"enter the bike price\") )\n",
    "if cost_price>100000:\n",
    "    tax = (cost_price)*15/100\n",
    "elif cost_price >50000 and cost_price>=100000 :\n",
    "    tax = (cost_price)*10/100\n",
    "else :\n",
    "    tax = (cost_price)*5/100\n",
    "    print(\"Tax =\", tax )"
   ]
  },
  {
   "cell_type": "code",
   "execution_count": 7,
   "id": "210e9df3-9ed2-4c6b-a3ae-8eb0aa4f4e06",
   "metadata": {},
   "outputs": [],
   "source": [
    "#Ques - 3"
   ]
  },
  {
   "cell_type": "code",
   "execution_count": 2,
   "id": "6a22c7b0-a9c3-499f-8b95-ca3f149fda3f",
   "metadata": {},
   "outputs": [
    {
     "name": "stdin",
     "output_type": "stream",
     "text": [
      "enter city name  Delhi\n"
     ]
    },
    {
     "name": "stdout",
     "output_type": "stream",
     "text": [
      "monument of your city is  Red Fort\n"
     ]
    }
   ],
   "source": [
    "city =(input(\"enter city name \") )\n",
    "if city == \"Delhi\":\n",
    "    monument=\"Red Fort\"\n",
    "if city==\"Agra\":\n",
    "    monument=\"Taj Mahal\"\n",
    "if city==\"Jaipur\":\n",
    "    monument=\"Jal Mahal\"\n",
    "print(\"monument of your city is \",monument) "
   ]
  },
  {
   "cell_type": "code",
   "execution_count": 3,
   "id": "a4a168b7-bbd1-4bce-a08a-f8bf83c876a0",
   "metadata": {},
   "outputs": [],
   "source": [
    "#Ques- 4\n"
   ]
  },
  {
   "cell_type": "code",
   "execution_count": 9,
   "id": "35ced853-a079-40e5-9e50-98a415cf28e3",
   "metadata": {},
   "outputs": [
    {
     "name": "stdin",
     "output_type": "stream",
     "text": [
      "enter number 12\n"
     ]
    },
    {
     "name": "stdout",
     "output_type": "stream",
     "text": [
      "1\n"
     ]
    }
   ],
   "source": [
    "number = int(input(\"enter number\"))\n",
    "count = 0\n",
    "while number >=10 :\n",
    "    number = number/3 ;\n",
    "    count = count+1\n",
    "print (count)\n",
    "    "
   ]
  },
  {
   "cell_type": "code",
   "execution_count": 15,
   "id": "8d2cfc83-3847-4aaf-92c7-7a3857a02cd2",
   "metadata": {},
   "outputs": [],
   "source": [
    "#Ques - 5 why and when use while loop in python give a detailed description with example "
   ]
  },
  {
   "cell_type": "markdown",
   "id": "943d20e3-4f58-4981-b16b-46e76eef3164",
   "metadata": {},
   "source": [
    "In programming, loops are used to repeat a block of code."
   ]
  },
  {
   "cell_type": "markdown",
   "id": "9a0f0270-8214-4dd9-ad65-51bd851b63c9",
   "metadata": {},
   "source": [
    "Example"
   ]
  },
  {
   "cell_type": "code",
   "execution_count": 14,
   "id": "ca4db909-7271-42c9-833e-01cd0470f805",
   "metadata": {},
   "outputs": [
    {
     "name": "stdout",
     "output_type": "stream",
     "text": [
      "Jai Shree Ram\n",
      "Jai Shree Ram\n",
      "Jai Shree Ram\n",
      "Jai Shree Ram\n",
      "Jai Shree Ram\n",
      "Jai Shree Ram\n",
      "Jai Shree Ram\n",
      "Jai Shree Ram\n",
      "Jai Shree Ram\n",
      "Jai Shree Ram\n",
      "Jai Shree Ram\n",
      "Jai Shree Ram\n",
      "Jai Shree Ram\n",
      "Jai Shree Ram\n",
      "Jai Shree Ram\n",
      "Jai Shree Ram\n",
      "Jai Shree Ram\n",
      "Jai Shree Ram\n",
      "Jai Shree Ram\n",
      "Jai Shree Ram\n",
      "Jai Shree Ram\n"
     ]
    }
   ],
   "source": [
    "count = 0\n",
    "while (count < 21):\n",
    "    count = count + 1\n",
    "    print(\"Jai Shree Ram\")"
   ]
  },
  {
   "cell_type": "code",
   "execution_count": null,
   "id": "c33f3e0d-628d-4784-b14e-0228fd2fde12",
   "metadata": {},
   "outputs": [],
   "source": []
  }
 ],
 "metadata": {
  "kernelspec": {
   "display_name": "Python 3 (ipykernel)",
   "language": "python",
   "name": "python3"
  },
  "language_info": {
   "codemirror_mode": {
    "name": "ipython",
    "version": 3
   },
   "file_extension": ".py",
   "mimetype": "text/x-python",
   "name": "python",
   "nbconvert_exporter": "python",
   "pygments_lexer": "ipython3",
   "version": "3.10.8"
  }
 },
 "nbformat": 4,
 "nbformat_minor": 5
}
